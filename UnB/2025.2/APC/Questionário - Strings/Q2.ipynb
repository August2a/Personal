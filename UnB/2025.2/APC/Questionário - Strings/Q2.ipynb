{
  "cells": [
    {
      "cell_type": "markdown",
      "id": "0ae3347d",
      "metadata": {},
      "source": [
        "## Questão 2\n",
        "\n",
        "### Texto da questão\n",
        "\n",
        "#### Palavra nova\n",
        "\n",
        "Elabore um programa que recebe uma palavra e imprime uma palavra nova derivada desta, que é composta pelos dois primeiros caracteres da palavra de entrada com os dois últimos.\n",
        "\n",
        "  \n",
        "A Entrada consiste de:\n",
        "\n",
        "*   Uma string que contém quatro ou mais caracteres.\n",
        "\n",
        "  \n",
        "A Saída deve apresentar:\n",
        "\n",
        "*   Uma string representando a palavra nova.\n",
        "\n",
        "  \n",
        "Observações:\n",
        "\n",
        "*   Não é necessário validar se os valores de entrada são do tipo definido.\n",
        "\n",
        "  \n",
        "Descrição dos Exemplos:\n",
        "\n",
        "*   No primeiro exemplo, a palavra de entrada é \"candy\", utilizando os dois primeiros caracteres e os dois últimos a palavra formada é \"cady\".\n",
        "\n",
        "Por exemplo:\n",
        "\n",
        "| Input | Resultado |\n",
        "| --- | --- |\n",
        "| candy | cady |\n",
        "| naevis | nais |\n",
        "| árvore | árre |"
      ]
    },
    {
      "cell_type": "code",
      "execution_count": null,
      "id": "c7f833de",
      "metadata": {},
      "outputs": [],
      "source": [
        "x = input()\n",
        "\n",
        "i = len(x) - 1\n",
        "\n",
        "y = x[:2] + x[i-1:i+1]\n",
        "\n",
        "print(y)"
      ]
    }
  ],
  "metadata": {
    "kernelspec": {
      "display_name": "Python 3",
      "language": "python",
      "name": "python3"
    },
    "language_info": {
      "name": "python",
      "version": "3.12.1"
    }
  },
  "nbformat": 4,
  "nbformat_minor": 5
}
