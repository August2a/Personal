{
 "cells": [
  {
   "cell_type": "markdown",
   "id": "2ec194c6",
   "metadata": {},
   "source": [
    "## Questão 1\n",
    "\n",
    "### Texto da questão\n",
    "\n",
    "#### Verificando\n",
    "\n",
    "Escreva um programa que recebe uma string e verifica se ela contém uma vírgula. Caso tenha, imprima \"passed\", caso contrário imprima \"failed\".\n",
    "\n",
    "  \n",
    "A Entrada consiste de:\n",
    "\n",
    "*   Uma string de tamanho variável.\n",
    "\n",
    "  \n",
    "A Saída deve apresentar:\n",
    "\n",
    "*   Uma string como especificado no enunciado.\n",
    "\n",
    "  \n",
    "Observações:\n",
    "\n",
    "*   Não é necessário validar se os valores de entrada são do tipo definido.\n",
    "\n",
    "  \n",
    "Descrição dos Exemplos:\n",
    "\n",
    "*   No primeiro exemplo, como a string não possui vírgula a saída é \"failed\".\n",
    "*   No segundo exemplo, como a string possui vírgula a saída é \"passed\".\n",
    "\n",
    "Por exemplo:\n",
    "\n",
    "| Input | Resultado |\n",
    "| --- | --- |\n",
    "| gosto de pães e bolos | failed |\n",
    "| você, eu e ele vamos ver aquele filme | passed |\n",
    "| não gosto tanto, mas tudo bem | passed |"
   ]
  },
  {
   "cell_type": "code",
   "execution_count": 1,
   "id": "91d25463",
   "metadata": {},
   "outputs": [
    {
     "name": "stdout",
     "output_type": "stream",
     "text": [
      "failed\n"
     ]
    }
   ],
   "source": [
    "x = input()\n",
    "\n",
    "if x.find(',') < 0: \n",
    "    print('failed')\n",
    "else:\n",
    "    print('passed')"
   ]
  }
 ],
 "metadata": {
  "kernelspec": {
   "display_name": "Python 3",
   "language": "python",
   "name": "python3"
  },
  "language_info": {
   "codemirror_mode": {
    "name": "ipython",
    "version": 3
   },
   "file_extension": ".py",
   "mimetype": "text/x-python",
   "name": "python",
   "nbconvert_exporter": "python",
   "pygments_lexer": "ipython3",
   "version": "3.12.1"
  }
 },
 "nbformat": 4,
 "nbformat_minor": 5
}
