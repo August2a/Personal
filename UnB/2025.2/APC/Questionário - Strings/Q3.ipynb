{
  "cells": [
    {
      "cell_type": "markdown",
      "metadata": {},
      "source": [
        "## Questão 3\n",
        "\n",
        "### Texto da questão\n",
        "\n",
        "#### Números\n",
        "\n",
        "Elabore um programa que recebe uma string e retorna a quantidade de dígitos numéricos contidas nela.\n",
        "\n",
        "  \n",
        "A Entrada consiste de:\n",
        "\n",
        "*   Uma string de tamanho variável.\n",
        "\n",
        "  \n",
        "A Saída deve apresentar:\n",
        "\n",
        "*   Um inteiro, representando a quantidade de dígitos numéricos contidos na string.\n",
        "\n",
        "  \n",
        "Observações:\n",
        "\n",
        "*   Não é necessário validar se os valores de entrada são do tipo definido.\n",
        "\n",
        "  \n",
        "Descrição dos Exemplos:\n",
        "\n",
        "*   No primeiro exemplo, a string de entrada é \"a promoção fez com que abaixasse de 19.90 para 6.99\" e ela contém sete dígitos numéricos: 1, 9, 9, 0, 6, 9 e 9.\n",
        "\n",
        "Por exemplo:\n",
        "\n",
        "| Input | Resultado |\n",
        "| --- | --- |\n",
        "| a promoção fez com que abaixasse de 19.90 para 6.99 | 7 |\n",
        "| não sei, só sei que foi assim uma vez | 0 |\n",
        "| meu doguinho só tem 2 meses | 1 |"
      ]
    },
    {
      "cell_type": "code",
      "execution_count": null,
      "id": "5ae55cb9",
      "metadata": {},
      "outputs": [],
      "source": [
        "x = input()\n",
        "y = 0\n",
        "\n",
        "for i in range(len(x)):\n",
        "    if x[i].isdigit():\n",
        "        y += 1\n",
        "\n",
        "print(y)"
      ]
    }
  ],
  "metadata": {
    "kernelspec": {
      "display_name": "Python 3",
      "language": "python",
      "name": "python3"
    },
    "language_info": {
      "name": "python",
      "version": "3.12.1"
    }
  },
  "nbformat": 4,
  "nbformat_minor": 5
}
