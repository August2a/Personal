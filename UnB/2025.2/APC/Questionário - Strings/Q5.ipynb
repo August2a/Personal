{
  "cells": [
    {
      "cell_type": "markdown",
      "metadata": {},
      "source": [
        "## Questão 5\n",
        "\n",
        "### Texto da questão\n",
        "\n",
        "#### Números: algarismos e por extenso\n",
        "\n",
        "Marli precisa revisar um histórico de compras da sua loja. O problema é que várias das compras foram registradas com o valor escrito por extenso e ela quer padronizar isso deixando todos os valores numéricos em algarismos. Ajude Marli elaborando um programa que recebe algum campo do registro e transforma os números escritos por extenso em algarismos. É garantido que os números estão no intervalo \\[0,9\\] e sempre são apresentados em letras minúsculas.  \n",
        "\n",
        "  \n",
        "**A Entrada consiste de:**\n",
        "\n",
        "-   Uma string de tamanho variável.\n",
        "\n",
        "  \n",
        "**A Saída deve apresentar:**\n",
        "\n",
        "-   Uma string representando a frase corrigida com um inteiro representando a quantidade de números escritos na frase.\n",
        "\n",
        "  \n",
        "**Observações:**\n",
        "\n",
        "-   Não é necessário validar se os valores de entrada são do tipo definido.\n",
        "-   Um [método específico do tipo `str`](https://docs.python.org/pt-br/3/library/stdtypes.html#string-methods-1) pode ser bastante útil!\n",
        "\n",
        "  \n",
        "**Descrição dos Exemplos:**\n",
        "\n",
        "-   No primeiro exemplo, foi feita uma substituição do número \"quatro\" por extenso para o algarismo \"4\".\n",
        "\n",
        "Por exemplo:\n",
        "\n",
        "| Input | Resultado |\n",
        "| --- | --- |\n",
        "| categoria: quatro | categoria: 4 |\n",
        "| quantidade: três peças | quantidade: 3 peças |\n",
        "| observações: adicionar mais um papel de presente no pacote. | observações: adicionar mais 1 papel de presente no pacote. |"
      ]
    },
    {
      "cell_type": "code",
      "execution_count": null,
      "id": "0d2fc88b",
      "metadata": {},
      "outputs": [],
      "source": [
        "numeros = [\n",
        "    'zero',\n",
        "    'um',\n",
        "    'dois',\n",
        "    'três',\n",
        "    'quatro',\n",
        "    'cinco',\n",
        "    'seis',\n",
        "    'sete',\n",
        "    'oito',\n",
        "    'nove'\n",
        "    ]\n",
        "    \n",
        "texto = input()\n",
        "\n",
        "for i in range(len(numeros)):\n",
        "    if  numeros[i] in texto:\n",
        "        texto = texto.replace(numeros[i],str(i))\n",
        "\n",
        "print(texto)"
      ]
    }
  ],
  "metadata": {
    "kernelspec": {
      "display_name": "Python 3",
      "language": "python",
      "name": "python3"
    },
    "language_info": {
      "name": "python",
      "version": "3.12.1"
    }
  },
  "nbformat": 4,
  "nbformat_minor": 5
}
