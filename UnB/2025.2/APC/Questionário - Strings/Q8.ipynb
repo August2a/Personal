{
  "cells": [
    {
      "cell_type": "markdown",
      "metadata": {},
      "source": [
        "## Questão 8\n",
        "\n",
        "### Texto da questão\n",
        "\n",
        "#### Compressão de Strings  \n",
        "\n",
        "#### \n",
        "\n",
        "Johnny é um cara legal que gostava de carros e brincar com algoritmos de compressão. Ele está trabalhando em um projeto no qual tem que lidar com cadeias de caracteres extremamente grandes. O maior problema de Johnny nesse trabalho é que essas strings são grandes demais para manipular diretamente, então ele precisa de uma representação alternativa (menor) para a mesma informação. Johnny pensou em usar uma técnica bem conhecida para comprimir as strings: trocar ocorrências consecutivas de um mesmo caractere por uma única ocorrência deste mesmo caractere, seguida da quantidade de ocorrências. Neste formato, todo caractere é seguido por um inteiro positivo. Essa compressão permitiu que ele comunicasse suas strings, mas ele não consegue processá-las corretamente e agora precisa da sua ajuda para revertê-las às suas formas originais.\n",
        "\n",
        "Entrada  \n",
        "A entrada é composta de uma linha contendo um inteiro _N_ (_1 ≤ N ≤ 50_), seguida de _N_ linhas distintas, cada uma com uma string codificada. É garantido que toda string tem pelo menos um caractere e está no formato comprimido, ou seja, é composto apenas por letras (maiúsculas) e dígitos.\n",
        "\n",
        "Saı́da  \n",
        "Apresente as strings decodificadas, uma por linha.\n",
        "\n",
        "Observações\n",
        "\n",
        "*   No caso de teste 1, devem ser decodificadas 4 strings. A primeira string tem 12 letras A, 2 letras B e 6 letras C, de forma que a string original é AAAAAAAAAAAABBCCCCCC. A segunda string tem 3 letras A, 6 letras B e 8 letras F, de forma que a string original é AAABBBBBBFFFFFFFF. A terceira string tem 16 letras A e 4 letras B, de forma que a string original é AAAAAAAAAAAAAAAABBBB. E a quarta string tem 5 letras G e 2 letras H, de forma que a string original é GGGGGHH.\n",
        "\n",
        "Por exemplo:\n",
        "\n",
        "| Input | Resultado |\n",
        "| --- | --- |\n",
        "| 4 <br>A12B2C6<br>A3B6F8<br>A16B4<br>G5H2 | AAAAAAAAAAAABBCCCCCC<br>AAABBBBBBFFFFFFFF<br>AAAAAAAAAAAAAAAABBBB<br>GGGGGHH |\n",
        "| 2<br>X1A10D10<br>V20 | XAAAAAAAAAADDDDDDDDDD<br>VVVVVVVVVVVVVVVVVVVV |\n",
        "| 5<br>A32B32C50A1V14G1B1<br>E30G90<br>D34<br>F9T45<br>K3X2V1 | AAAAAAAAAAAAAAAAAAAAAAAAAAAAAAAABBBBBBBBBBBBBBBBBBBBBBBBBBBBBBBBCCCCCCCCCCCCCCCCCCCCCCCCCCCCCCCCCCCCCCCCCCCCCCCCCCAVVVVVVVVVVVVVVGB<br>EEEEEEEEEEEEEEEEEEEEEEEEEEEEEEGGGGGGGGGGGGGGGGGGGGGGGGGGGGGGGGGGGGGGGGGGGGGGGGGGGGGGGGGGGGGGGGGGGGGGGGGGGGGGGGGGGGGGGGGG<br>DDDDDDDDDDDDDDDDDDDDDDDDDDDDDDDDDD<br>FFFFFFFFFTTTTTTTTTTTTTTTTTTTTTTTTTTTTTTTTTTTTTTTTTTTTT<br>KKKXXV |"
      ]
    },
    {
      "cell_type": "code",
      "execution_count": null,
      "id": "2fab3eb8",
      "metadata": {},
      "outputs": [],
      "source": [
        "n = int(input())\n",
        "\n",
        "for _ in range(n):\n",
        "    entrada = input()\n",
        "    lista_casos = []\n",
        "    \n",
        "    caso = entrada[0]\n",
        "    for i in range(1,len(entrada)):\n",
        "        if entrada[i].isdigit():\n",
        "            caso += entrada[i]\n",
        "        else:\n",
        "            lista_casos.append(caso)\n",
        "            caso = entrada[i]\n",
        "    lista_casos.append(caso)\n",
        "    \n",
        "    saida = ''\n",
        "    for caso in lista_casos:\n",
        "        letra = caso[0]\n",
        "        numero = int(caso[1:len(caso)])\n",
        "        \n",
        "        for i in range(numero):\n",
        "            saida += letra\n",
        "    \n",
        "    print(saida)\n",
        "            "
      ]
    }
  ],
  "metadata": {
    "kernelspec": {
      "display_name": "Python 3",
      "language": "python",
      "name": "python3"
    },
    "language_info": {
      "name": "python",
      "version": "3.12.1"
    }
  },
  "nbformat": 4,
  "nbformat_minor": 5
}
