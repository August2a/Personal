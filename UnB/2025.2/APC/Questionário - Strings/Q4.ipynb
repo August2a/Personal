{
  "cells": [
    {
      "cell_type": "markdown",
      "metadata": {},
      "source": [
        "## Questão 4\n",
        "\n",
        "### Texto da questão\n",
        "\n",
        "#### Str\\[i\\]ng\n",
        "\n",
        "Elabore um programa que recebe uma string e retorna os caracteres contidos nos índices ímpares dessa string, ignorando os espaços em branco. Mostre os caracteres um ao lado do outro numa mesma linha, sem espaços.  \n",
        "\n",
        "  \n",
        "A Entrada consiste de:\n",
        "\n",
        "*   Uma string de tamanho variável.\n",
        "\n",
        "  \n",
        "A Saída deve apresentar:\n",
        "\n",
        "*   Uma string composta pelos caracteres contidos nos índices ímpares da string de entrada.\n",
        "\n",
        "  \n",
        "Observações:\n",
        "\n",
        "*   Não é necessário validar se os valores de entrada são do tipo definido.\n",
        "\n",
        "  \n",
        "Descrição dos Exemplos:\n",
        "\n",
        "*   No primeiro exemplo, os caracteres que se encontram nos índices ímpares são a, n, o, c, d, u, c, e, o, l, a, s, t, r, e. Sendo assim a saída é \"anocduceolastre\".\n",
        "\n",
        "Por exemplo:\n",
        "\n",
        "| Input | Resultado |\n",
        "| --- | --- |\n",
        "| saindo cedo eu chego lá mais tarde | anocduceolastre |\n",
        "| pJpá é hpoprpa dpe jpapnptpapr | Jáéhoradejantar |\n",
        "| sábado um dia de aventura | áaouieaetr |"
      ]
    },
    {
      "cell_type": "code",
      "execution_count": null,
      "id": "93e66230",
      "metadata": {},
      "outputs": [],
      "source": [
        "x = input()\n",
        "palavra = ''\n",
        "\n",
        "for i in range(len(x)):\n",
        "    if i % 2 != 0 and x[i] != ' ':\n",
        "        palavra += x [i]  \n",
        "\n",
        "print(palavra)"
      ]
    }
  ],
  "metadata": {
    "kernelspec": {
      "display_name": "Python 3",
      "language": "python",
      "name": "python3"
    },
    "language_info": {
      "name": "python",
      "version": "3.12.1"
    }
  },
  "nbformat": 4,
  "nbformat_minor": 5
}
