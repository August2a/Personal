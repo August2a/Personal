{
  "cells": [
    {
      "cell_type": "markdown",
      "metadata": {},
      "source": [
        "## Questão 7\n",
        "\n",
        "### Texto da questão\n",
        "\n",
        "#### Palíndromo\n",
        "\n",
        "Ianerisson tem uma string s com apenas letras minúsculas de 'a' a 'z'. Ele quer trocar exatamente um caractere de modo que a nova string seja um palíndromo.\n",
        "\n",
        "Um palíndromo é uma string que possui a mesma sequência de caracteres, tanto de frente para trás, como de trás para frente. Por exemplo as strings \"z\", \"aaa\", \"aba\" e \"abccba\" são palíndromos, enquanto que as strings \"codeforces\", \"realidade\" e \"ab\" não são palíndromos.\n",
        "\n",
        "  \n",
        "Entrada\n",
        "\n",
        "A primeira linha contém uma string s de até 100 caracteres.\n",
        "\n",
        "Saída  \n",
        "\n",
        "Imprima \"ON\" (sem as aspas duplas) se Ianerisson puder trocar exatamente um caractere para que a string resultante seja um palíndromo e \"OFF\" (sem as aspas duplas) caso contrário.\n",
        "\n",
        "Observações  \n",
        "\n",
        "*   No primeiro exemplo de teste, podemos trocar o segundo caractere 'b' por 'a' ou o quinto caractere 'a' por 'b';\n",
        "*   No segundo exemplo de teste, seriam necessárias, no mínimo, duas trocas de caractere para obtermos um palíndromo;\n",
        "*   No terceiro exemplo de teste, apesar da string \"glxlg\" ser palíndrome, podemos trocar o caractere do meio 'x' por qualquer outro, que assim podemos obter outra string palíndrome.\n",
        "\n",
        "Por exemplo:\n",
        "\n",
        "| Input | Resultado |\n",
        "| --- | --- |\n",
        "| abccaa | ON |\n",
        "| abbcca | OFF |\n",
        "| glxlg | ON |"
      ]
    },
    {
      "cell_type": "code",
      "execution_count": null,
      "id": "856ce0fb",
      "metadata": {},
      "outputs": [],
      "source": [
        "palavra = input()\n",
        "qt_desiguais = 0\n",
        "estado = 'OFF'\n",
        "\n",
        "for i in range(int(len(palavra) / 2)):\n",
        "    if palavra[i] != palavra[len(palavra) - 1 - i]:\n",
        "        qt_desiguais += 1\n",
        "\n",
        "# se for somente 1 caractere desigual, ou se tiver um caractere no meio:\n",
        "if (qt_desiguais == 0 and len(palavra) % 2 != 0) or (qt_desiguais == 1):\n",
        "    estado = 'ON'   # muda o estado \n",
        "\n",
        "print(estado)"
      ]
    }
  ],
  "metadata": {
    "kernelspec": {
      "display_name": "Python 3",
      "language": "python",
      "name": "python3"
    },
    "language_info": {
      "name": "python",
      "version": "3.12.1"
    }
  },
  "nbformat": 4,
  "nbformat_minor": 5
}
