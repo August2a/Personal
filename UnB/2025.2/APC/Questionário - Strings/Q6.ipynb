{
  "cells": [
    {
      "cell_type": "markdown",
      "metadata": {},
      "source": [
        "## Questão 6\n",
        "\n",
        "### Texto da questão\n",
        "\n",
        "#### Stop word\n",
        "\n",
        "Mei é viciada em twitter e de vez em quando gosta de fazer uns mistérios nas mensagens que deixa por lá, ela faz isso censurando uma palavra do texto utilizando um asterisco \"\\*\". Elabore um programa que recebe como entrada um tweet de Mei e a palavra a ser censurada, caso a palavra a ser censurada esteja no tweet, imprima-o com a censura, caso contrário imprima \"tudo certo :)\".   \n",
        "\n",
        "  \n",
        "A Entrada consiste de:\n",
        "\n",
        "*   Uma string de tamanho variado representando um tweet de Mei e uma string sem espaços representando a palavra a ser censurada do tweet.\n",
        "\n",
        "  \n",
        "A Saída deve apresentar:\n",
        "\n",
        "*   Uma string de tamanho variado como especificado no enunciado.\n",
        "\n",
        "  \n",
        "Observações:\n",
        "\n",
        "*   Não é necessário validar se os valores de entrada são do tipo definido.\n",
        "\n",
        "  \n",
        "Descrição dos Exemplos:\n",
        "\n",
        "*   No primeiro exemplo, o tweet é \"faz minha make\" e a palavra a ser censurada é \"minha\", como ela consta no tweet a saída é \"faz \\* make\".\n",
        "*   No segundo exemplo, o tweet é \"o céu ensolarado fará chover\" e a palavra a ser censurada é \"chuva\", como ela não consta no tweet a saída é \"tudo certo :)\".\n",
        "\n",
        "Por exemplo:\n",
        "\n",
        "| Input | Resultado |\n",
        "| --- | --- |\n",
        "| faz minha make\n",
        "minha | faz * make |\n",
        "| o céu ensolarado fará chover\n",
        "chuva | tudo certo :) |\n",
        "| abri minha mochila e tinha uma surpresa\n",
        "mochila | abri minha * e tinha uma surpresa |"
      ]
    },
    {
      "cell_type": "code",
      "execution_count": null,
      "id": "db060a8b",
      "metadata": {},
      "outputs": [],
      "source": [
        "texto = input()\n",
        "palavra = input()\n",
        "\n",
        "if palavra in texto:\n",
        "    texto = texto.replace(palavra,'*')\n",
        "else:\n",
        "    texto = 'tudo certo :)'\n",
        "\n",
        "print(texto)"
      ]
    }
  ],
  "metadata": {
    "kernelspec": {
      "display_name": "Python 3",
      "language": "python",
      "name": "python3"
    },
    "language_info": {
      "name": "python",
      "version": "3.12.1"
    }
  },
  "nbformat": 4,
  "nbformat_minor": 5
}
